{
 "cells": [
  {
   "cell_type": "code",
   "execution_count": 1,
   "id": "13d756ee-6806-49b4-9f70-00edc0d7220f",
   "metadata": {},
   "outputs": [],
   "source": [
    "import numpy as np\n",
    "import pandas as pd\n",
    "import matplotlib.pyplot as plt\n",
    "\n",
    "%precision 3\n",
    "%matplotlib inline"
   ]
  },
  {
   "cell_type": "code",
   "execution_count": 12,
   "id": "91c7132c-7ab3-4f13-ae28-bd689ee10d15",
   "metadata": {},
   "outputs": [
    {
     "data": {
      "text/plain": [
       "array([76, 55, 80, 80, 74, 61, 81, 76, 23, 80])"
      ]
     },
     "execution_count": 12,
     "metadata": {},
     "output_type": "execute_result"
    }
   ],
   "source": [
    "df = pd.read_csv('./data/ch4_scores400.csv')\n",
    "scores = np.array(df['score'])\n",
    "scores[:10]"
   ]
  },
  {
   "cell_type": "code",
   "execution_count": 3,
   "id": "997b4b47-1b80-4c19-8395-ec5710c481f6",
   "metadata": {},
   "outputs": [],
   "source": [
    "# 시험에 나옵니당\n",
    "\n",
    "# 모집단: 추측하고 싶은 관측 대상 전체\n",
    "# 표본: 추측에 사용하는 관측 대상의 일부분\n",
    "# 표본추출: 모집단에서 표본을 골라내는 일\n",
    "# 표본 크기: 골라낸 표본의 수\n",
    "\n",
    "# 표본통계량: 표본을 바탕으로 계산한 평균이나 분산, 상관계수\n",
    "# 모수: 모집단의 평균이나 분산, 상관계수\n",
    "\n",
    "# 표본평균: 표본집단의 평균\n",
    "# 모평균: 모집단의 평균"
   ]
  },
  {
   "cell_type": "code",
   "execution_count": 4,
   "id": "074c5e04-3c53-4ff0-98ac-ab59b2ae7ccc",
   "metadata": {},
   "outputs": [],
   "source": [
    "# 중요 시험\n",
    "\n",
    "# 추정량: 표본평균으로 모평균을 추측할 때, 표본평균이 추정량에 해당\n",
    "#        ex) 모집단: 전교생 400명, 모수: x, 표본집단: 학생 20명, 표본평균: 추정량\n",
    "\n",
    "# 추정값: 실제로 표본의 데이터를 이용해 추정한 모수 값 (just 추정)"
   ]
  },
  {
   "cell_type": "markdown",
   "id": "46d47319-5595-4209-b0c1-7c9909426d25",
   "metadata": {},
   "source": [
    "---"
   ]
  },
  {
   "cell_type": "markdown",
   "id": "ddf7db7c-e51f-4130-87bc-49a80e7a2479",
   "metadata": {},
   "source": [
    "표본추출 방법"
   ]
  },
  {
   "cell_type": "code",
   "execution_count": 6,
   "id": "13ffce8e-52de-49cc-982a-dcfa1e411279",
   "metadata": {},
   "outputs": [
    {
     "data": {
      "text/plain": [
       "array([3, 3, 1])"
      ]
     },
     "execution_count": 6,
     "metadata": {},
     "output_type": "execute_result"
    }
   ],
   "source": [
    "# 무작위추출: 랜덤으로 추출하는 방법 (편향 가능성 존재)\n",
    "\n",
    "# 복원 추출: 모집단을 반복 사용해, 여러 차례 동일한 표본을 선택할 수 있는 추출 방법\n",
    "np.random.choice([1, 2, 3], 3)"
   ]
  },
  {
   "cell_type": "code",
   "execution_count": 21,
   "id": "760f6b77-a87f-48e7-bb10-d748b0f78582",
   "metadata": {},
   "outputs": [
    {
     "data": {
      "text/plain": [
       "array([2, 3, 1])"
      ]
     },
     "execution_count": 21,
     "metadata": {},
     "output_type": "execute_result"
    }
   ],
   "source": [
    "# 비복원 추출: 동일한 표본은 한 번만 선택하는 방법 (뽑힌 모집단을 복원하지 않음)\n",
    "np.random.choice([1, 2, 3], 3, replace=False)\n",
    "\n",
    "# np.random.choice(모집단, 뽑을 개수, replace=?)\n",
    "# -> replace: 복원추출 여부 (기본값 = True)\n",
    "# -> 뽑을 개수 지정을 안한다면? 기본값 1개"
   ]
  },
  {
   "cell_type": "code",
   "execution_count": 10,
   "id": "af056c01-bd83-4f64-808f-c245511dff3f",
   "metadata": {},
   "outputs": [
    {
     "data": {
      "text/plain": [
       "array([3, 1, 3])"
      ]
     },
     "execution_count": 10,
     "metadata": {},
     "output_type": "execute_result"
    }
   ],
   "source": [
    "# 난수 시드: 난수의 시작점을 고정하는 숫자로, 매번 동일한 랜덤 값을 재현할 수 있게 함\n",
    "#  => 다른 사람도 같은 결과 재현 가능\n",
    "np.random.seed(42)\n",
    "np.random.choice([1, 2, 3], 3)"
   ]
  },
  {
   "cell_type": "code",
   "execution_count": 17,
   "id": "06bf487b-8085-4f02-a8c8-cb4a41d1f993",
   "metadata": {},
   "outputs": [
    {
     "name": "stdout",
     "output_type": "stream",
     "text": [
      "표본 평균: 70.4\n",
      "모평균: 69.53\n"
     ]
    }
   ],
   "source": [
    "np.random.seed(0)\n",
    "sample = np.random.choice(scores, 20)\n",
    "print(f\"표본 평균: {sample.mean()}\")\n",
    "\n",
    "print(f\"모평균: {scores.mean()}\")"
   ]
  },
  {
   "cell_type": "code",
   "execution_count": 18,
   "id": "629197a7-1784-4947-b1a5-b5be540e7096",
   "metadata": {},
   "outputs": [
    {
     "name": "stdout",
     "output_type": "stream",
     "text": [
      "1번째 무작위 추출로 얻어진 표본평균: 72.45\n",
      "2번째 무작위 추출로 얻어진 표본평균: 63.7\n",
      "3번째 무작위 추출로 얻어진 표본평균: 66.05\n",
      "4번째 무작위 추출로 얻어진 표본평균: 71.7\n",
      "5번째 무작위 추출로 얻어진 표본평균: 74.15\n"
     ]
    }
   ],
   "source": [
    "# 무작위추출은 실행할 때마다 결과가 달라지기 때문에, 얻어진 표본평균도 매번 달라짐\n",
    "for i in range(5):\n",
    "    sample = np.random.choice(scores, 20)\n",
    "    print(f\"{i+1}번째 무작위 추출로 얻어진 표본평균: {sample.mean()}\")"
   ]
  },
  {
   "cell_type": "markdown",
   "id": "9147f2e3-4eb9-4e88-8605-382c845f9dac",
   "metadata": {},
   "source": [
    "---"
   ]
  },
  {
   "cell_type": "code",
   "execution_count": null,
   "id": "0c7c2cd7-c6b1-4749-8a0d-0305c20500f4",
   "metadata": {},
   "outputs": [],
   "source": [
    "# 확률: 불확실성을 수반한 현상을 해석하기 위해 사용\n",
    "# 확률 모형: 확률을 사용한 무작위추출 (주사위를 모델링한 것)\n",
    "# 확률 변수: 결과는 알 수 없지만, 취하는 값과 그 값이 나올 확률이 결정되어 있는 것 --> 주사위는 모두 1/6 확률 :star:\n",
    "\n",
    "# 시행: 확률 변수의 결과를 관측한 것\n",
    "# 실현값: 시행에 의해 관측된 값\n",
    "# 사건: 시행 결과로 나타날 수 있는 일 --> '주사위 눈이 홀수' :star:\n",
    "# 근원사건: 더 세부적으로 분해할 수 없는 사건 --> '주사위 눈이 1' :star:\n",
    "\n",
    "# 상호배반: 동시에 일어날 수 없는 사건\n",
    "# => 사건이 상호 배반이라면, 그 중 적어도 하나 일어나는 사건은 각 사건의 확률의 합과 같다"
   ]
  },
  {
   "cell_type": "code",
   "execution_count": 23,
   "id": "ed736bcf-afde-4347-9e58-81d24ed2d7e2",
   "metadata": {},
   "outputs": [
    {
     "data": {
      "text/plain": [
       "np.int64(2)"
      ]
     },
     "execution_count": 23,
     "metadata": {},
     "output_type": "execute_result"
    }
   ],
   "source": [
    "# 확률분포: 확률변수가 어떻게 움직이는지를 나타낸 것\n",
    "\n",
    "# 불공정한 주사위\n",
    "dice = [1, 2, 3, 4, 5, 6]\n",
    "prob = [1/21, 2/21, 3/21, 4/21, 5/21, 6/21]\n",
    "\n",
    "np.random.choice(dice, p=prob)\n",
    "\n",
    "# size 지정 없으니, 주사위를 한 번 던지는 것\n",
    "# p: 각 요소가 선택될 확률을 나타내는 리스트 => p의 합은 반드시 1 (즉, 확률분포!)\n",
    "#    -> p가 None이라면 균등분포 처리"
   ]
  },
  {
   "cell_type": "markdown",
   "id": "10d61530-bcad-4524-b184-aef5714290c8",
   "metadata": {},
   "source": [
    "(참고)np.random.choice() 내부 동작\n",
    "1. 컴퓨터가 0~1 사이의 난수(예: 0.63) 생성\n",
    "2. 그 난수가 누적확률(확률분포에 따라 결정) 어디에 속하는지 확인\n",
    "3. 누적확률 구간에 해당하는 값 반환"
   ]
  },
  {
   "cell_type": "code",
   "execution_count": 25,
   "id": "c50f088a-8c65-4df8-8e86-9e7ad9458aed",
   "metadata": {},
   "outputs": [
    {
     "data": {
      "text/plain": [
       "array([5, 1, 3, 5, 5, 3, 6, 5, 5, 5, 6, 4, 4, 3, 3, 6, 6, 5, 3, 3, 2, 4,\n",
       "       4, 5, 4, 3, 1, 2, 5, 4, 5, 6, 6, 3, 5, 3, 1, 6, 4, 4, 5, 6, 5, 6,\n",
       "       3, 6, 3, 6, 5, 3, 6, 6, 3, 3, 5, 1, 3, 4, 4, 4, 3, 5, 6, 2, 5, 2,\n",
       "       6, 4, 5, 3, 3, 5, 4, 6, 6, 6, 6, 2, 5, 5, 6, 4, 3, 2, 1, 6, 5, 6,\n",
       "       3, 5, 2, 5, 6, 6, 4, 6, 3, 6, 6, 6])"
      ]
     },
     "execution_count": 25,
     "metadata": {},
     "output_type": "execute_result"
    }
   ],
   "source": [
    "# 100번 시도\n",
    "num_trial = 100\n",
    "\n",
    "sample = np.random.choice(dice, num_trial, p=prob)\n",
    "sample"
   ]
  },
  {
   "cell_type": "code",
   "execution_count": 28,
   "id": "5985d292-a574-435e-a043-78188b43c6f9",
   "metadata": {},
   "outputs": [
    {
     "data": {
      "text/html": [
       "<div>\n",
       "<style scoped>\n",
       "    .dataframe tbody tr th:only-of-type {\n",
       "        vertical-align: middle;\n",
       "    }\n",
       "\n",
       "    .dataframe tbody tr th {\n",
       "        vertical-align: top;\n",
       "    }\n",
       "\n",
       "    .dataframe thead th {\n",
       "        text-align: right;\n",
       "    }\n",
       "</style>\n",
       "<table border=\"1\" class=\"dataframe\">\n",
       "  <thead>\n",
       "    <tr style=\"text-align: right;\">\n",
       "      <th></th>\n",
       "      <th>frequency</th>\n",
       "      <th>relative frequency</th>\n",
       "    </tr>\n",
       "    <tr>\n",
       "      <th>dice</th>\n",
       "      <th></th>\n",
       "      <th></th>\n",
       "    </tr>\n",
       "  </thead>\n",
       "  <tbody>\n",
       "    <tr>\n",
       "      <th>1</th>\n",
       "      <td>5</td>\n",
       "      <td>0.05</td>\n",
       "    </tr>\n",
       "    <tr>\n",
       "      <th>2</th>\n",
       "      <td>7</td>\n",
       "      <td>0.07</td>\n",
       "    </tr>\n",
       "    <tr>\n",
       "      <th>3</th>\n",
       "      <td>21</td>\n",
       "      <td>0.21</td>\n",
       "    </tr>\n",
       "    <tr>\n",
       "      <th>4</th>\n",
       "      <td>15</td>\n",
       "      <td>0.15</td>\n",
       "    </tr>\n",
       "    <tr>\n",
       "      <th>5</th>\n",
       "      <td>24</td>\n",
       "      <td>0.24</td>\n",
       "    </tr>\n",
       "    <tr>\n",
       "      <th>6</th>\n",
       "      <td>28</td>\n",
       "      <td>0.28</td>\n",
       "    </tr>\n",
       "  </tbody>\n",
       "</table>\n",
       "</div>"
      ],
      "text/plain": [
       "      frequency  relative frequency\n",
       "dice                               \n",
       "1             5                0.05\n",
       "2             7                0.07\n",
       "3            21                0.21\n",
       "4            15                0.15\n",
       "5            24                0.24\n",
       "6            28                0.28"
      ]
     },
     "execution_count": 28,
     "metadata": {},
     "output_type": "execute_result"
    }
   ],
   "source": [
    "# 도수분포표 작성\n",
    "\n",
    "freq, _ = np.histogram(sample, bins=6, range=(1, 7))\n",
    "pd.DataFrame({'frequency': freq, 'relative frequency': freq/num_trial}, index=pd.Index(np.arange(1,7), name='dice'))"
   ]
  },
  {
   "cell_type": "code",
   "execution_count": 32,
   "id": "6c6f87b6-dfa0-4737-a436-32be9ba15551",
   "metadata": {},
   "outputs": [
    {
     "data": {
      "image/png": "[encoded data removed]",
      "text/plain": [
       "<Figure size 1000x600 with 1 Axes>"
      ]
     },
     "metadata": {},
     "output_type": "display_data"
    }
   ],
   "source": [
    "# 도수분포표 히스토그램\n",
    "fig = plt.figure(figsize=(10, 6))\n",
    "ax = fig.add_subplot(111)\n",
    "ax.hist(sample, bins=6, range=(1, 7), density=True, rwidth=0.8)\n",
    "\n",
    "ax.hlines(prob, np.arange(1,7), np.arange(2,8), colors='gray')\n",
    "\n",
    "ax.set_xticks(np.linspace(1.5, 6.5, 6))\n",
    "ax.set_xticklabels(np.arange(1,7))\n",
    "ax.set_xlabel('dice')\n",
    "ax.set_ylabel('relative frequency')\n",
    "\n",
    "plt.show()"
   ]
  },
  {
   "cell_type": "code",
   "execution_count": 34,
   "id": "4c990d71-fe46-4960-b4b4-9ee24732399b",
   "metadata": {},
   "outputs": [
    {
     "data": {
      "image/png": "[encoded data removed]",
      "text/plain": [
       "<Figure size 1000x600 with 1 Axes>"
      ]
     },
     "metadata": {},
     "output_type": "display_data"
    }
   ],
   "source": [
    "# 10000번 시행: 실제 확률분포와 가까워짐\n",
    "num_trial = 100000\n",
    "sample = np.random.choice(dice, size=num_trial, p=prob)\n",
    "\n",
    "fig = plt.figure(figsize=(10, 6))\n",
    "ax = fig.add_subplot(111)\n",
    "ax.hist(sample, bins=6, range=(1, 7), density=True, rwidth=0.8)\n",
    "\n",
    "ax.hlines(prob, np.arange(1,7), np.arange(2,8), colors='gray')\n",
    "\n",
    "ax.set_xticks(np.linspace(1.5, 6.5, 6))\n",
    "ax.set_xticklabels(np.arange(1,7))\n",
    "ax.set_xlabel('dice')\n",
    "ax.set_ylabel('relative frequency')\n",
    "\n",
    "plt.show()"
   ]
  },
  {
   "cell_type": "code",
   "execution_count": 38,
   "id": "03a4632d-60af-4264-be9a-692f6803f858",
   "metadata": {},
   "outputs": [
    {
     "data": {
      "image/png": "[encoded data removed]",
      "text/plain": [
       "<Figure size 1000x600 with 1 Axes>"
      ]
     },
     "metadata": {},
     "output_type": "display_data"
    }
   ],
   "source": [
    "# 전교생 시험 점수 분포\n",
    "\n",
    "fig = plt.figure(figsize=(10, 6))\n",
    "ax = fig.add_subplot(111)\n",
    "ax.hist(scores, bins=100, range=(0, 100), density=True)\n",
    "ax.set_xlim(20, 100)\n",
    "ax.set_ylim(0, 0.042)\n",
    "ax.set_xlabel('score')\n",
    "ax.set_ylabel('relative frequency')\n",
    "plt.show()"
   ]
  },
  {
   "cell_type": "code",
   "execution_count": 40,
   "id": "2d4cafe3-3d04-432a-a973-664bf460e37c",
   "metadata": {},
   "outputs": [
    {
     "data": {
      "text/plain": [
       "np.int64(74)"
      ]
     },
     "execution_count": 40,
     "metadata": {},
     "output_type": "execute_result"
    }
   ],
   "source": [
    "np.random.choice(scores)"
   ]
  },
  {
   "cell_type": "code",
   "execution_count": 41,
   "id": "9d14c59f-b209-4162-8472-1a8ab21b0ffe",
   "metadata": {},
   "outputs": [
    {
     "data": {
      "image/png": "[encoded data removed]",
      "text/plain": [
       "<Figure size 1000x600 with 1 Axes>"
      ]
     },
     "metadata": {},
     "output_type": "display_data"
    }
   ],
   "source": [
    "# 10000명 대상 -> 실제와 가까워짐\n",
    "sample= np.random.choice(scores, 10000)\n",
    "\n",
    "fig = plt.figure(figsize=(10, 6))\n",
    "ax = fig.add_subplot(111)\n",
    "ax.hist(sample, bins=100, range=(0, 100), density=True)\n",
    "ax.set_xlim(20, 100)\n",
    "ax.set_ylim(0, 0.042)\n",
    "ax.set_xlabel('score')\n",
    "ax.set_ylabel('relative frequency')\n",
    "plt.show()"
   ]
  },
  {
   "cell_type": "code",
   "execution_count": 47,
   "id": "a35ab644-df3e-432c-9df7-af4366160d9f",
   "metadata": {},
   "outputs": [
    {
     "data": {
      "image/png": "[encoded data removed]",
      "text/plain": [
       "<Figure size 1000x600 with 1 Axes>"
      ]
     },
     "metadata": {},
     "output_type": "display_data"
    }
   ],
   "source": [
    "# 표본평균도 시행횟수가 많아지면 모평균과 유사해짐\n",
    "\n",
    "scores = np.array(df['score'])\n",
    "\n",
    "sample_means = [np.random.choice(scores, 20).mean()\n",
    "                for _ in range(10000)]\n",
    "\n",
    "fig = plt.figure(figsize=(10, 6))\n",
    "ax = fig.add_subplot(111)\n",
    "ax.hist(sample_means, bins=100, range=(0, 100), density=True)\n",
    "\n",
    "ax.vlines(np.mean(scores), 0, 1, 'gray')\n",
    "ax.set_xlim(50, 90)\n",
    "ax.set_ylim(0, 0.13)\n",
    "ax.set_xlabel('score')\n",
    "ax.set_ylabel('relative frequency')\n",
    "plt.show()"
   ]
  },
  {
   "cell_type": "code",
   "execution_count": null,
   "id": "b895cf7b-aff4-4d90-aa02-8dc71758d08b",
   "metadata": {},
   "outputs": [],
   "source": []
  }
 ],
 "metadata": {
  "kernelspec": {
   "display_name": "Python 3 (ipykernel)",
   "language": "python",
   "name": "python3"
  },
  "language_info": {
   "codemirror_mode": {
    "name": "ipython",
    "version": 3
   },
   "file_extension": ".py",
   "mimetype": "text/x-python",
   "name": "python",
   "nbconvert_exporter": "python",
   "pygments_lexer": "ipython3",
   "version": "3.13.5"
  }
 },
 "nbformat": 4,
 "nbformat_minor": 5
}
